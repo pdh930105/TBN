{
 "cells": [
  {
   "cell_type": "code",
   "execution_count": 2,
   "metadata": {},
   "outputs": [
    {
     "name": "stdout",
     "output_type": "stream",
     "text": [
      "modified ADC out \n",
      " tensor([[[[-0.5742, -0.4306, -0.7177, -0.7177],\n",
      "          [-0.8612, -0.1435, -1.1483,  0.2871],\n",
      "          [-0.5742, -1.0048, -0.7177, -0.7177],\n",
      "          [-0.1435, -0.7177, -0.5742,  0.0000]],\n",
      "\n",
      "         [[ 0.0000, -0.2871,  0.2871, -0.4306],\n",
      "          [-0.1435, -0.5742, -1.0048, -0.7177],\n",
      "          [-0.8612, -0.4306, -0.8612, -0.7177],\n",
      "          [ 0.0000, -0.5742, -0.2871, -0.4306]]]], grad_fn=<AddBackward0>)\n",
      "original ADC out \n",
      " tensor([[[[-0.3577, -0.2534, -0.3701, -0.4631],\n",
      "          [-0.4441,  0.3779, -0.8063,  0.6392],\n",
      "          [-0.3134, -0.3375, -0.1996, -0.2938],\n",
      "          [ 0.0678, -0.3858, -0.2271,  0.1015]],\n",
      "\n",
      "         [[ 0.2131, -0.1699,  0.3695, -0.2047],\n",
      "          [ 0.1817,  0.0768, -0.4345, -0.3291],\n",
      "          [-0.4985,  0.1228, -0.1138, -0.2635],\n",
      "          [ 0.1060, -0.2007,  0.0533, -0.1688]]]], grad_fn=<AddBackward0>)\n",
      "Without ADC out \n",
      " tensor([[[[-0.2871, -0.1794, -0.3230, -0.3947],\n",
      "          [-0.3768,  0.4486, -0.7536,  0.6998],\n",
      "          [-0.2512, -0.2871, -0.1435, -0.2333],\n",
      "          [ 0.1435, -0.3230, -0.1615,  0.1794]],\n",
      "\n",
      "         [[ 0.2871, -0.1077,  0.4306, -0.1435],\n",
      "          [ 0.2691,  0.1256, -0.3947, -0.2691],\n",
      "          [-0.4306,  0.1794, -0.0718, -0.1974],\n",
      "          [ 0.1794, -0.1435,  0.1256, -0.1077]]]], grad_fn=<AddBackward0>)\n",
      "modified adc diff :  tensor([[[[-0.2871, -0.2512, -0.3947, -0.3230],\n",
      "          [-0.4845, -0.5921, -0.3947, -0.4127],\n",
      "          [-0.3230, -0.7177, -0.5742, -0.4845],\n",
      "          [-0.2871, -0.3947, -0.4127, -0.1794]],\n",
      "\n",
      "         [[-0.2871, -0.1794, -0.1435, -0.2871],\n",
      "          [-0.4127, -0.6998, -0.6100, -0.4486],\n",
      "          [-0.4306, -0.6100, -0.7895, -0.5203],\n",
      "          [-0.1794, -0.4306, -0.4127, -0.3230]]]], grad_fn=<SubBackward0>)\n",
      "original adc diff :  tensor([[[[-0.0706, -0.0740, -0.0471, -0.0684],\n",
      "          [-0.0673, -0.0706, -0.0527, -0.0606],\n",
      "          [-0.0622, -0.0505, -0.0561, -0.0606],\n",
      "          [-0.0757, -0.0628, -0.0656, -0.0779]],\n",
      "\n",
      "         [[-0.0740, -0.0622, -0.0611, -0.0611],\n",
      "          [-0.0875, -0.0488, -0.0398, -0.0600],\n",
      "          [-0.0678, -0.0566, -0.0421, -0.0662],\n",
      "          [-0.0735, -0.0572, -0.0723, -0.0611]]]], grad_fn=<SubBackward0>)\n",
      "diff mse :  tensor(0.1980, grad_fn=<MseLossBackward0>)\n",
      "diff original_adc mse :  tensor(0.0041, grad_fn=<MseLossBackward0>)\n"
     ]
    }
   ],
   "source": [
    "from qconv import TBNConv2d\n",
    "import torch\n",
    "import torch.nn as nn\n",
    "import torch.nn.functional as F\n",
    "\n",
    "tbnconv = TBNConv2d(64, 2, 3, 1, 1, adc_mode=True)\n",
    "inputs = torch.randn(1, 64, 4, 4)\n",
    "tbnconv.pim_mode=True\n",
    "tbnconv.adc_mode='linear'\n",
    "tbnconv.adc_bits=5\n",
    "linear_adc_out = tbnconv(inputs)\n",
    "tbnconv.adc_mode='original'\n",
    "original_out = tbnconv(inputs)\n",
    "tbnconv.adc_mode='none'\n",
    "out = tbnconv(inputs)\n",
    "print(\"modified ADC out \\n\",linear_adc_out)\n",
    "print(\"original ADC out \\n\", original_out)\n",
    "print(\"Without ADC out \\n\", out)\n",
    "print(\"modified adc diff : \", linear_adc_out - out)\n",
    "print(\"original adc diff : \", original_out - out)\n",
    "print(\"diff mse : \", F.mse_loss(linear_adc_out, out))\n",
    "print(\"diff original_adc mse : \", F.mse_loss(original_out, out))\n"
   ]
  },
  {
   "cell_type": "code",
   "execution_count": null,
   "metadata": {},
   "outputs": [],
   "source": []
  }
 ],
 "metadata": {
  "kernelspec": {
   "display_name": "base",
   "language": "python",
   "name": "python3"
  },
  "language_info": {
   "codemirror_mode": {
    "name": "ipython",
    "version": 3
   },
   "file_extension": ".py",
   "mimetype": "text/x-python",
   "name": "python",
   "nbconvert_exporter": "python",
   "pygments_lexer": "ipython3",
   "version": "3.8.13"
  },
  "orig_nbformat": 4
 },
 "nbformat": 4,
 "nbformat_minor": 2
}
